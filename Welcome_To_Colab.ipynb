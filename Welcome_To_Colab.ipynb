{
  "cells": [
    {
      "cell_type": "markdown",
      "metadata": {
        "id": "view-in-github",
        "colab_type": "text"
      },
      "source": [
        "<a href=\"https://colab.research.google.com/github/SreejaReddyKonda/AreaOfShapes/blob/main/Welcome_To_Colab.ipynb\" target=\"_parent\"><img src=\"https://colab.research.google.com/assets/colab-badge.svg\" alt=\"Open In Colab\"/></a>"
      ]
    },
    {
      "cell_type": "markdown",
      "source": [],
      "metadata": {
        "id": "S7Xbr7hbMRcm"
      }
    },
    {
      "cell_type": "code",
      "source": [
        "# Define a function to concatenate first_name and last_name into a full name\n",
        "def fullname(first_name, last_name):\n",
        "    full_name = first_name + \" \" + last_name\n",
        "    return full_name\n",
        "\n",
        "# Define a function to return every other character in a given string\n",
        "def string_alternative(full_name):\n",
        "    alternate_chars = \"\"\n",
        "    for i in range(0, len(full_name), 2):\n",
        "        alternate_chars += full_name[i]\n",
        "    return alternate_chars\n",
        "\n",
        "# Main function to collect user input, process it, and display results\n",
        "def main():\n",
        "    # Prompt the user to enter their first name\n",
        "    first_name = input(\"Enter your first name: \")\n",
        "\n",
        "    # Prompt the user to enter their last name\n",
        "    last_name = input(\"Enter your last name: \")\n",
        "\n",
        "    # Call the fullname function to concatenate the first and last names\n",
        "    full_name = fullname(first_name, last_name)\n",
        "\n",
        "    # Display the full name\n",
        "    print(\"Full Name:\", full_name)\n",
        "\n",
        "    # Call the string_alternative function to get alternate characters in the full name\n",
        "    alternate_chars = string_alternative(full_name)\n",
        "\n",
        "    # Display the alternate characters in the full name\n",
        "    print(\"Alternate Characters in Full Name:\", alternate_chars)\n",
        "\n",
        "# Check if the script is run as the main program\n",
        "if __name__ == \"__main__\":\n",
        "    main()\n"
      ],
      "metadata": {
        "id": "72_Zg2RfPzfR",
        "outputId": "e09b11d8-8aaa-4d44-d4b3-e3db594466a3",
        "colab": {
          "base_uri": "https://localhost:8080/"
        }
      },
      "execution_count": 2,
      "outputs": [
        {
          "output_type": "stream",
          "name": "stdout",
          "text": [
            "Enter your first name: Sreeja Reddy\n",
            "Enter your last name: Konda\n",
            "Full Name: Sreeja Reddy Konda\n",
            "Alternate Characters in Full Name: Sej ed od\n"
          ]
        }
      ]
    }
  ],
  "metadata": {
    "colab": {
      "name": "Welcome To Colab",
      "toc_visible": true,
      "provenance": [],
      "include_colab_link": true
    },
    "kernelspec": {
      "display_name": "Python 3",
      "name": "python3"
    }
  },
  "nbformat": 4,
  "nbformat_minor": 0
}